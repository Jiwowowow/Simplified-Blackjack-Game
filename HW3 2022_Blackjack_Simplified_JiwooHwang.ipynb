{
 "cells": [
  {
   "cell_type": "markdown",
   "metadata": {},
   "source": [
    " due in 10 days (Sept. 12 Midnight)\n",
    " \n",
    " total 30 points \n"
   ]
  },
  {
   "cell_type": "markdown",
   "metadata": {},
   "source": [
    "\n",
    "## We will practice more on Python\n",
    "     - functions. Simplify your code with using as many functions as possible.\n",
    "     - random\n",
    "     - logic\n",
    "     - if-condition\n",
    "     - loops\n",
    "     - list to store data\n",
    "     - documentation\n",
    "\n",
    "\n"
   ]
  },
  {
   "cell_type": "markdown",
   "metadata": {},
   "source": [
    "## For DA and CSC 430 students: Simplified version:\n",
    "    This is a blackjack program. In the beginning, you have $1000 to play the game. \n",
    "    \n",
    "    You and the dealer are given a deck of 52 cards shuffled. \n",
    "  \n",
    "    For each game, you need to bet some money, say x dollars. \n",
    "      - if you win, your total money = 1000 + x\n",
    "      - if you lose, your total money = 1000 -x\n",
    "      - if you tie with the program, your money has no change.\n",
    "    \n",
    "         \n",
    "    Game Rules:\n",
    "    (1) At first, you, the player, need to bet some money. \n",
    "    \n",
    "    (2 ) Draw two card from the top of the deck for the player. Then convert card face number to points:\n",
    "        - Ace:    11 points\n",
    "        - Jack:   10 points\n",
    "        - Queen:  10 points\n",
    "        - King:   10 points\n",
    "        - Others: points = card face number\n",
    "        \n",
    "    (3) Do the same for dealer in the same manner. \n",
    "    \n",
    "    (4) Display all physical cards and total points (yours and dealer)\n",
    "    \n",
    "    (5) Compare your total points with dealer's:  \n",
    "        - if yours is higher than the dealer's, you win\n",
    "        - if equal, tie\n",
    "        - if yours is lower, you lose  \n",
    "        \n",
    "    (5) Now you finish one game.\n",
    "    \n",
    "    The program will ask if the player plays again or not. Player can play until you want to quit or no more money left or not card left in the deck. Finally, the game is over. Print out the player's balance($ amount).\n",
    "\n",
    " \n",
    "-----------------\n",
    "       - Ignore the Blackjack(If you start (Ace & 10) )\n",
    "\n",
    "       - 'Hit': ask for another card. \n",
    "       - 'Stand':hold your total and end a game. \n",
    "       - 'Bust': over 21 points\n"
   ]
  },
  {
   "cell_type": "code",
   "execution_count": 1,
   "metadata": {
    "ExecuteTime": {
     "end_time": "2022-10-03T19:09:12.096915Z",
     "start_time": "2022-10-03T19:09:12.091942Z"
    }
   },
   "outputs": [
    {
     "name": "stdout",
     "output_type": "stream",
     "text": [
      "Requirement already satisfied: ipywidgets in c:\\users\\user\\anaconda3\\lib\\site-packages (7.6.5)\n",
      "Requirement already satisfied: ipython>=4.0.0 in c:\\users\\user\\anaconda3\\lib\\site-packages (from ipywidgets) (8.2.0)\n",
      "Requirement already satisfied: nbformat>=4.2.0 in c:\\users\\user\\anaconda3\\lib\\site-packages (from ipywidgets) (5.3.0)\n",
      "Requirement already satisfied: traitlets>=4.3.1 in c:\\users\\user\\anaconda3\\lib\\site-packages (from ipywidgets) (5.1.1)\n",
      "Requirement already satisfied: ipython-genutils~=0.2.0 in c:\\users\\user\\anaconda3\\lib\\site-packages (from ipywidgets) (0.2.0)\n",
      "Requirement already satisfied: widgetsnbextension~=3.5.0 in c:\\users\\user\\anaconda3\\lib\\site-packages (from ipywidgets) (3.5.2)\n",
      "Requirement already satisfied: ipykernel>=4.5.1 in c:\\users\\user\\anaconda3\\lib\\site-packages (from ipywidgets) (6.9.1)\n",
      "Requirement already satisfied: jupyterlab-widgets>=1.0.0 in c:\\users\\user\\anaconda3\\lib\\site-packages (from ipywidgets) (1.0.0)\n",
      "Requirement already satisfied: nest-asyncio in c:\\users\\user\\anaconda3\\lib\\site-packages (from ipykernel>=4.5.1->ipywidgets) (1.5.5)\n",
      "Requirement already satisfied: jupyter-client<8.0 in c:\\users\\user\\anaconda3\\lib\\site-packages (from ipykernel>=4.5.1->ipywidgets) (6.1.12)\n",
      "Requirement already satisfied: debugpy<2.0,>=1.0.0 in c:\\users\\user\\anaconda3\\lib\\site-packages (from ipykernel>=4.5.1->ipywidgets) (1.5.1)\n",
      "Requirement already satisfied: matplotlib-inline<0.2.0,>=0.1.0 in c:\\users\\user\\anaconda3\\lib\\site-packages (from ipykernel>=4.5.1->ipywidgets) (0.1.2)\n",
      "Requirement already satisfied: tornado<7.0,>=4.2 in c:\\users\\user\\anaconda3\\lib\\site-packages (from ipykernel>=4.5.1->ipywidgets) (6.1)\n",
      "Requirement already satisfied: pickleshare in c:\\users\\user\\anaconda3\\lib\\site-packages (from ipython>=4.0.0->ipywidgets) (0.7.5)\n",
      "Requirement already satisfied: backcall in c:\\users\\user\\anaconda3\\lib\\site-packages (from ipython>=4.0.0->ipywidgets) (0.2.0)\n",
      "Requirement already satisfied: colorama in c:\\users\\user\\anaconda3\\lib\\site-packages (from ipython>=4.0.0->ipywidgets) (0.4.4)\n",
      "Requirement already satisfied: pygments>=2.4.0 in c:\\users\\user\\anaconda3\\lib\\site-packages (from ipython>=4.0.0->ipywidgets) (2.11.2)\n",
      "Requirement already satisfied: decorator in c:\\users\\user\\anaconda3\\lib\\site-packages (from ipython>=4.0.0->ipywidgets) (5.1.1)\n",
      "Requirement already satisfied: prompt-toolkit!=3.0.0,!=3.0.1,<3.1.0,>=2.0.0 in c:\\users\\user\\anaconda3\\lib\\site-packages (from ipython>=4.0.0->ipywidgets) (3.0.20)\n",
      "Requirement already satisfied: stack-data in c:\\users\\user\\anaconda3\\lib\\site-packages (from ipython>=4.0.0->ipywidgets) (0.2.0)\n",
      "Requirement already satisfied: jedi>=0.16 in c:\\users\\user\\anaconda3\\lib\\site-packages (from ipython>=4.0.0->ipywidgets) (0.18.1)\n",
      "Requirement already satisfied: setuptools>=18.5 in c:\\users\\user\\anaconda3\\lib\\site-packages (from ipython>=4.0.0->ipywidgets) (61.2.0)\n",
      "Requirement already satisfied: parso<0.9.0,>=0.8.0 in c:\\users\\user\\anaconda3\\lib\\site-packages (from jedi>=0.16->ipython>=4.0.0->ipywidgets) (0.8.3)\n",
      "Requirement already satisfied: jupyter-core>=4.6.0 in c:\\users\\user\\anaconda3\\lib\\site-packages (from jupyter-client<8.0->ipykernel>=4.5.1->ipywidgets) (4.9.2)\n",
      "Requirement already satisfied: pyzmq>=13 in c:\\users\\user\\anaconda3\\lib\\site-packages (from jupyter-client<8.0->ipykernel>=4.5.1->ipywidgets) (22.3.0)\n",
      "Requirement already satisfied: python-dateutil>=2.1 in c:\\users\\user\\anaconda3\\lib\\site-packages (from jupyter-client<8.0->ipykernel>=4.5.1->ipywidgets) (2.8.2)\n",
      "Requirement already satisfied: pywin32>=1.0 in c:\\users\\user\\anaconda3\\lib\\site-packages (from jupyter-core>=4.6.0->jupyter-client<8.0->ipykernel>=4.5.1->ipywidgets) (302)\n",
      "Requirement already satisfied: fastjsonschema in c:\\users\\user\\anaconda3\\lib\\site-packages (from nbformat>=4.2.0->ipywidgets) (2.15.1)\n",
      "Requirement already satisfied: jsonschema>=2.6 in c:\\users\\user\\anaconda3\\lib\\site-packages (from nbformat>=4.2.0->ipywidgets) (4.4.0)\n",
      "Requirement already satisfied: pyrsistent!=0.17.0,!=0.17.1,!=0.17.2,>=0.14.0 in c:\\users\\user\\anaconda3\\lib\\site-packages (from jsonschema>=2.6->nbformat>=4.2.0->ipywidgets) (0.18.0)\n",
      "Requirement already satisfied: attrs>=17.4.0 in c:\\users\\user\\anaconda3\\lib\\site-packages (from jsonschema>=2.6->nbformat>=4.2.0->ipywidgets) (21.4.0)\n",
      "Requirement already satisfied: wcwidth in c:\\users\\user\\anaconda3\\lib\\site-packages (from prompt-toolkit!=3.0.0,!=3.0.1,<3.1.0,>=2.0.0->ipython>=4.0.0->ipywidgets) (0.2.5)\n",
      "Requirement already satisfied: six>=1.5 in c:\\users\\user\\anaconda3\\lib\\site-packages (from python-dateutil>=2.1->jupyter-client<8.0->ipykernel>=4.5.1->ipywidgets) (1.16.0)\n",
      "Requirement already satisfied: notebook>=4.4.1 in c:\\users\\user\\anaconda3\\lib\\site-packages (from widgetsnbextension~=3.5.0->ipywidgets) (6.4.8)\n",
      "Requirement already satisfied: jinja2 in c:\\users\\user\\anaconda3\\lib\\site-packages (from notebook>=4.4.1->widgetsnbextension~=3.5.0->ipywidgets) (2.11.3)\n",
      "Requirement already satisfied: argon2-cffi in c:\\users\\user\\anaconda3\\lib\\site-packages (from notebook>=4.4.1->widgetsnbextension~=3.5.0->ipywidgets) (21.3.0)\n",
      "Requirement already satisfied: Send2Trash>=1.8.0 in c:\\users\\user\\anaconda3\\lib\\site-packages (from notebook>=4.4.1->widgetsnbextension~=3.5.0->ipywidgets) (1.8.0)\n",
      "Requirement already satisfied: nbconvert in c:\\users\\user\\anaconda3\\lib\\site-packages (from notebook>=4.4.1->widgetsnbextension~=3.5.0->ipywidgets) (6.4.4)\n",
      "Requirement already satisfied: terminado>=0.8.3 in c:\\users\\user\\anaconda3\\lib\\site-packages (from notebook>=4.4.1->widgetsnbextension~=3.5.0->ipywidgets) (0.13.1)\n",
      "Requirement already satisfied: prometheus-client in c:\\users\\user\\anaconda3\\lib\\site-packages (from notebook>=4.4.1->widgetsnbextension~=3.5.0->ipywidgets) (0.13.1)\n",
      "Requirement already satisfied: pywinpty>=1.1.0 in c:\\users\\user\\anaconda3\\lib\\site-packages (from terminado>=0.8.3->notebook>=4.4.1->widgetsnbextension~=3.5.0->ipywidgets) (2.0.2)\n",
      "Requirement already satisfied: argon2-cffi-bindings in c:\\users\\user\\anaconda3\\lib\\site-packages (from argon2-cffi->notebook>=4.4.1->widgetsnbextension~=3.5.0->ipywidgets) (21.2.0)\n",
      "Requirement already satisfied: cffi>=1.0.1 in c:\\users\\user\\anaconda3\\lib\\site-packages (from argon2-cffi-bindings->argon2-cffi->notebook>=4.4.1->widgetsnbextension~=3.5.0->ipywidgets) (1.15.0)\n",
      "Requirement already satisfied: pycparser in c:\\users\\user\\anaconda3\\lib\\site-packages (from cffi>=1.0.1->argon2-cffi-bindings->argon2-cffi->notebook>=4.4.1->widgetsnbextension~=3.5.0->ipywidgets) (2.21)\n",
      "Requirement already satisfied: MarkupSafe>=0.23 in c:\\users\\user\\anaconda3\\lib\\site-packages (from jinja2->notebook>=4.4.1->widgetsnbextension~=3.5.0->ipywidgets) (2.0.1)\n",
      "Requirement already satisfied: testpath in c:\\users\\user\\anaconda3\\lib\\site-packages (from nbconvert->notebook>=4.4.1->widgetsnbextension~=3.5.0->ipywidgets) (0.5.0)\n",
      "Requirement already satisfied: beautifulsoup4 in c:\\users\\user\\anaconda3\\lib\\site-packages (from nbconvert->notebook>=4.4.1->widgetsnbextension~=3.5.0->ipywidgets) (4.11.1)\n",
      "Requirement already satisfied: mistune<2,>=0.8.1 in c:\\users\\user\\anaconda3\\lib\\site-packages (from nbconvert->notebook>=4.4.1->widgetsnbextension~=3.5.0->ipywidgets) (0.8.4)\n",
      "Requirement already satisfied: entrypoints>=0.2.2 in c:\\users\\user\\anaconda3\\lib\\site-packages (from nbconvert->notebook>=4.4.1->widgetsnbextension~=3.5.0->ipywidgets) (0.4)\n",
      "Requirement already satisfied: bleach in c:\\users\\user\\anaconda3\\lib\\site-packages (from nbconvert->notebook>=4.4.1->widgetsnbextension~=3.5.0->ipywidgets) (4.1.0)\n",
      "Requirement already satisfied: pandocfilters>=1.4.1 in c:\\users\\user\\anaconda3\\lib\\site-packages (from nbconvert->notebook>=4.4.1->widgetsnbextension~=3.5.0->ipywidgets) (1.5.0)\n",
      "Requirement already satisfied: nbclient<0.6.0,>=0.5.0 in c:\\users\\user\\anaconda3\\lib\\site-packages (from nbconvert->notebook>=4.4.1->widgetsnbextension~=3.5.0->ipywidgets) (0.5.13)\n",
      "Requirement already satisfied: defusedxml in c:\\users\\user\\anaconda3\\lib\\site-packages (from nbconvert->notebook>=4.4.1->widgetsnbextension~=3.5.0->ipywidgets) (0.7.1)\n",
      "Requirement already satisfied: jupyterlab-pygments in c:\\users\\user\\anaconda3\\lib\\site-packages (from nbconvert->notebook>=4.4.1->widgetsnbextension~=3.5.0->ipywidgets) (0.1.2)\n",
      "Requirement already satisfied: soupsieve>1.2 in c:\\users\\user\\anaconda3\\lib\\site-packages (from beautifulsoup4->nbconvert->notebook>=4.4.1->widgetsnbextension~=3.5.0->ipywidgets) (2.3.1)\n",
      "Requirement already satisfied: webencodings in c:\\users\\user\\anaconda3\\lib\\site-packages (from bleach->nbconvert->notebook>=4.4.1->widgetsnbextension~=3.5.0->ipywidgets) (0.5.1)\n",
      "Requirement already satisfied: packaging in c:\\users\\user\\anaconda3\\lib\\site-packages (from bleach->nbconvert->notebook>=4.4.1->widgetsnbextension~=3.5.0->ipywidgets) (21.3)\n",
      "Requirement already satisfied: pyparsing!=3.0.5,>=2.0.2 in c:\\users\\user\\anaconda3\\lib\\site-packages (from packaging->bleach->nbconvert->notebook>=4.4.1->widgetsnbextension~=3.5.0->ipywidgets) (3.0.4)\n",
      "Requirement already satisfied: asttokens in c:\\users\\user\\anaconda3\\lib\\site-packages (from stack-data->ipython>=4.0.0->ipywidgets) (2.0.5)\n",
      "Requirement already satisfied: pure-eval in c:\\users\\user\\anaconda3\\lib\\site-packages (from stack-data->ipython>=4.0.0->ipywidgets) (0.2.2)\n",
      "Requirement already satisfied: executing in c:\\users\\user\\anaconda3\\lib\\site-packages (from stack-data->ipython>=4.0.0->ipywidgets) (0.8.3)\n",
      "Note: you may need to restart the kernel to use updated packages.\n"
     ]
    }
   ],
   "source": [
    "pip install ipywidgets"
   ]
  },
  {
   "cell_type": "code",
   "execution_count": 2,
   "metadata": {
    "ExecuteTime": {
     "end_time": "2022-10-03T19:09:12.660972Z",
     "start_time": "2022-10-03T19:09:12.650948Z"
    }
   },
   "outputs": [
    {
     "name": "stderr",
     "output_type": "stream",
     "text": [
      "Enabling notebook extension jupyter-js-widgets/extension...\n",
      "      - Validating: ok\n"
     ]
    }
   ],
   "source": [
    "!jupyter nbextension enable --py widgetsnbextension"
   ]
  },
  {
   "cell_type": "code",
   "execution_count": 3,
   "metadata": {
    "ExecuteTime": {
     "end_time": "2022-10-03T19:09:13.364397Z",
     "start_time": "2022-10-03T19:09:13.353363Z"
    }
   },
   "outputs": [
    {
     "name": "stdout",
     "output_type": "stream",
     "text": [
      "['3_of_diamonds', '5_of_diamonds', '2_of_diamonds', '3_of_hearts', '6_of_spades', '5_of_clubs', '10_of_clubs', '3_of_spades', '9_of_diamonds', '6_of_diamonds', 'king_of_clubs', '7_of_clubs', '10_of_hearts', 'jack_of_hearts', 'jack_of_clubs', '8_of_spades', 'queen_of_clubs', '4_of_diamonds', '9_of_hearts', '2_of_clubs', '7_of_diamonds', '3_of_clubs', 'jack_of_diamonds', 'king_of_hearts', 'queen_of_spades', 'jack_of_spades', '10_of_diamonds', '4_of_clubs', '9_of_spades', '8_of_hearts', '7_of_spades', 'queen_of_hearts', '6_of_clubs', '6_of_hearts', 'ace_of_hearts', 'king_of_diamonds', 'ace_of_diamonds', 'queen_of_diamonds', '10_of_spades', '8_of_diamonds', '7_of_hearts', 'king_of_spades', 'ace_of_clubs', '2_of_hearts', '2_of_spades', '5_of_hearts', '9_of_clubs', '5_of_spades', '4_of_spades', 'ace_of_spades', '8_of_clubs', '4_of_hearts']\n"
     ]
    }
   ],
   "source": [
    "# a deck list of shuffled poker cards is given \n",
    "\n",
    "import random \n",
    "\n",
    "# (1)  deck: given list of 52 poker cards.\n",
    "values = [ \"ace\", \"2\", \"3\", \"4\", \"5\", \"6\", \"7\",\"8\", \"9\", \"10\", \"jack\", \"queen\", \"king\" ]\n",
    "suits  = [ \"clubs\", \"diamonds\", \"hearts\", \"spades\" ]\n",
    "deck = [ v +\"_of_\"+ s for s in suits for v in values  ] \n",
    "random.shuffle(deck) \n",
    "\n",
    "print(deck)"
   ]
  },
  {
   "cell_type": "code",
   "execution_count": 4,
   "metadata": {
    "ExecuteTime": {
     "end_time": "2022-10-03T19:09:17.686354Z",
     "start_time": "2022-10-03T19:09:14.306652Z"
    }
   },
   "outputs": [
    {
     "data": {
      "application/vnd.jupyter.widget-view+json": {
       "model_id": "f31cc39869e94a8ebfb7ec4140397b3d",
       "version_major": 2,
       "version_minor": 0
      },
      "text/plain": [
       "HBox(children=(Image(value=b'\\x89PNG\\r\\n\\x1a\\n\\x00\\x00\\x00\\rIHDR\\x00\\x00\\x01\\xf4\\x00\\x00\\x02\\xd6\\x08\\x06\\x00\\x…"
      ]
     },
     "metadata": {},
     "output_type": "display_data"
    }
   ],
   "source": [
    "# card_display.py: given module for card display\n",
    "# to use it: import card_display\n",
    "    \n",
    "# (1) import card_display.py for card display and rename it as cd\n",
    "import card_display as cd\n",
    "\n",
    "# card_1 = deck.pop(0) # draw the first card and display it: passing a list \n",
    "# cd.card_display([card_1])\n",
    "\n",
    "# # # or draw again and display two cards \n",
    "# card_2 = deck.pop(0) \n",
    "# print(card_2)\n",
    "# cd.card_display([card_1, card_2])\n",
    "\n",
    "\n",
    "# (3) pause a moment and clear the screen\n",
    "import time\n",
    "from IPython.display import clear_output\n",
    "time.sleep(3)                      # pasue 3 seconds\n",
    "clear_output(wait=False)           # clear the screen\n",
    "\n",
    "# # display 50 left cards in the deck\n",
    "cd.card_display(deck)         \n"
   ]
  },
  {
   "cell_type": "code",
   "execution_count": null,
   "metadata": {},
   "outputs": [],
   "source": []
  },
  {
   "cell_type": "code",
   "execution_count": 5,
   "metadata": {
    "ExecuteTime": {
     "end_time": "2022-10-03T19:02:48.000834Z",
     "start_time": "2022-10-03T19:02:47.985837Z"
    }
   },
   "outputs": [
    {
     "name": "stdout",
     "output_type": "stream",
     "text": [
      "How much money(in USD) are you betting ? 1000\n"
     ]
    },
    {
     "data": {
      "application/vnd.jupyter.widget-view+json": {
       "model_id": "51e6e1fcf04c45b5b64ad43be5f63ee6",
       "version_major": 2,
       "version_minor": 0
      },
      "text/plain": [
       "HBox(children=(Image(value=b'\\x89PNG\\r\\n\\x1a\\n\\x00\\x00\\x00\\rIHDR\\x00\\x00\\x01\\xf4\\x00\\x00\\x02\\xd6\\x08\\x06\\x00\\x…"
      ]
     },
     "metadata": {},
     "output_type": "display_data"
    },
    {
     "name": "stdout",
     "output_type": "stream",
     "text": [
      "Dealer point : 14\n"
     ]
    },
    {
     "data": {
      "application/vnd.jupyter.widget-view+json": {
       "model_id": "86cf339b861b41a795767a7d3ab49053",
       "version_major": 2,
       "version_minor": 0
      },
      "text/plain": [
       "HBox(children=(Image(value=b'\\x89PNG\\r\\n\\x1a\\n\\x00\\x00\\x00\\rIHDR\\x00\\x00\\x01\\xf4\\x00\\x00\\x02\\xd6\\x08\\x06\\x00\\x…"
      ]
     },
     "metadata": {},
     "output_type": "display_data"
    },
    {
     "name": "stdout",
     "output_type": "stream",
     "text": [
      "Player point : 10\n",
      "Play again?(y / n) : n\n",
      "Your balance : $440\n"
     ]
    }
   ],
   "source": [
    "# Your code here, use functions as many as possible\n",
    "\n",
    "import random\n",
    "import card_display as cd\n",
    "import time\n",
    "from IPython.display import clear_output\n",
    "\n",
    "# # display 50 left cards in the deck\n",
    "# cd.card_display(deck)         \n",
    "\n",
    "\n",
    "def draw_card() :\n",
    "     # draw a card from the top\n",
    "    card_name= deck.pop(0)\n",
    "    card_num = card_name.split(\"_\")[0]\n",
    "\n",
    "    # convert to points\n",
    "    if card_num.isdigit():\n",
    "        point = int(card_num)\n",
    "    else:\n",
    "        if  card_num == \"ace\":\n",
    "            point = 11\n",
    "        else: \n",
    "            point = 10\n",
    "    return point, card_name  \n",
    "\n",
    "def display_card() :\n",
    "     # draw and display dealer's cards \n",
    "    card_1 = dealer_card[len(dealer_card)-2]\n",
    "    card_2 = dealer_card[len(dealer_card)-1] \n",
    "    \n",
    "    cd.card_display([card_1, card_2])\n",
    "    print(f\"Dealer point : {dealer_point}\")\n",
    "\n",
    "    # draw and display player's cards \n",
    "    card_3 = player_card[len(player_card)-2]\n",
    "    card_4 = player_card[len(player_card)-1] \n",
    "    \n",
    "    cd.card_display([card_3, card_4])\n",
    "    print(f\"Player point : {player_point}\")\n",
    "    \n",
    "def compare_n_balance(p_money) :\n",
    "    # if yours is higher than the dealer's, you win\n",
    "    if (player_point > dealer_point) :\n",
    "        p_money+=bet\n",
    "        \n",
    "    # if equal, tie / if yours is lower, you lose  \n",
    "    elif (player_point < dealer_point) :\n",
    "        p_money-=bet\n",
    "        \n",
    "    else : return p_money\n",
    "    \n",
    "    return p_money\n",
    "\n",
    "\n",
    "def back_2_deck() :\n",
    "    deck.extend(dealer_card)       #put cards back into the deck \n",
    "    deck.extend(player_card)\n",
    "    dealer_card.clear()\n",
    "    player_card.clear()    \n",
    "    \n",
    "\n",
    "dealer_card = []\n",
    "dealer_point = 0\n",
    "player_card = []\n",
    "player_point = 0\n",
    "player_money = 1000\n",
    "\n",
    "\n",
    "\n",
    "while True :\n",
    "    #reset points (sum of cards of player and dealer) when starting a new game\n",
    "    dealer_point = 0\n",
    "    player_point = 0\n",
    "    \n",
    "    #shuffle deck again\n",
    "    random.shuffle(deck) \n",
    "    \n",
    "    bet = int(input(\"How much money(in USD) are you betting ? \"))\n",
    "    if (bet > player_money) :\n",
    "        print(f\"You cannot bet more than what you have : ${player_money}\")\n",
    "        bet = int(input(\"How much money(in USD) are you betting ? \"))\n",
    "    \n",
    "    \n",
    "    #draw two cards for player\n",
    "    for i in range(2) :\n",
    "        point, card_name = draw_card()\n",
    "\n",
    "        player_card.append(card_name)\n",
    "        player_point+=point\n",
    " \n",
    "    # (3) Do the same for dealer in the same manner. \n",
    "\n",
    "    #draw two cards for dealer\n",
    "    for j in range(2) :\n",
    "        point, card_name = draw_card()\n",
    "\n",
    "        dealer_card.append(card_name)\n",
    "        dealer_point+=point\n",
    "\n",
    "    # (4) Display all physical cards and total points (yours and dealer)\n",
    "    \n",
    "    display_card()\n",
    "    \n",
    "\n",
    "    # (5) Compare your total points with dealer's:  \n",
    "    \n",
    "    player_money = compare_n_balance(player_money)\n",
    "    \n",
    "    # (5) Now you finish one game.\n",
    "    # The program will ask if the player plays again or not\n",
    "    # Player can play until you want to quit or no more money left or not card left in the deck. \n",
    "    # Finally, the game is over. Print out the player's balance($ amount).\n",
    "\n",
    "\n",
    "    again = input(\"Play again?(y / n) : \")\n",
    "    if (again == 'y') :\n",
    "        if ( 0 >= player_money ) or (len(deck) == 0) :\n",
    "            print(\"\\n****You can no longer play****\")\n",
    "            print(f\"Your balance : ${player_money}\")\n",
    "            back_2_deck()\n",
    "            break\n",
    "            \n",
    "        time.sleep(3)                      # pasue 3 seconds\n",
    "        clear_output(wait=False)           # clear the screen\n",
    "\n",
    "    elif (again == 'n') :\n",
    "        print(f\"Your balance : ${player_money}\")\n",
    "        back_2_deck()\n",
    "        break\n"
   ]
  },
  {
   "cell_type": "code",
   "execution_count": null,
   "metadata": {
    "ExecuteTime": {
     "end_time": "2022-10-03T19:03:07.166901Z",
     "start_time": "2022-10-03T19:03:07.160903Z"
    }
   },
   "outputs": [],
   "source": [
    "# end"
   ]
  }
 ],
 "metadata": {
  "hide_input": false,
  "kernelspec": {
   "display_name": "Python 3 (ipykernel)",
   "language": "python",
   "name": "python3"
  },
  "language_info": {
   "codemirror_mode": {
    "name": "ipython",
    "version": 3
   },
   "file_extension": ".py",
   "mimetype": "text/x-python",
   "name": "python",
   "nbconvert_exporter": "python",
   "pygments_lexer": "ipython3",
   "version": "3.9.12"
  },
  "toc": {
   "base_numbering": 1,
   "nav_menu": {},
   "number_sections": true,
   "sideBar": true,
   "skip_h1_title": false,
   "title_cell": "Table of Contents",
   "title_sidebar": "Contents",
   "toc_cell": false,
   "toc_position": {},
   "toc_section_display": true,
   "toc_window_display": false
  },
  "varInspector": {
   "cols": {
    "lenName": 16,
    "lenType": 16,
    "lenVar": 40
   },
   "kernels_config": {
    "python": {
     "delete_cmd_postfix": "",
     "delete_cmd_prefix": "del ",
     "library": "var_list.py",
     "varRefreshCmd": "print(var_dic_list())"
    },
    "r": {
     "delete_cmd_postfix": ") ",
     "delete_cmd_prefix": "rm(",
     "library": "var_list.r",
     "varRefreshCmd": "cat(var_dic_list()) "
    }
   },
   "types_to_exclude": [
    "module",
    "function",
    "builtin_function_or_method",
    "instance",
    "_Feature"
   ],
   "window_display": false
  }
 },
 "nbformat": 4,
 "nbformat_minor": 2
}
